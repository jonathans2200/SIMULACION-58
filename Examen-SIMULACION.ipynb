{
 "cells": [
  {
   "cell_type": "code",
   "execution_count": 80,
   "metadata": {},
   "outputs": [],
   "source": [
    "# Importamos las librerias\n",
    "import tweepy\n",
    "import datetime\n",
    "import numpy as np\n",
    "import pandas as pd\n",
    "from random import randint\n",
    "import json"
   ]
  },
  {
   "cell_type": "markdown",
   "metadata": {},
   "source": [
    "# Agregamos los keys developer de twitter"
   ]
  },
  {
   "cell_type": "code",
   "execution_count": 81,
   "metadata": {},
   "outputs": [],
   "source": [
    "\n",
    "API_KEY = \"BxY952USdAR9ojsF4wqrAe5dO\"\n",
    "API_SECRET_KEY = \"WUVjbbdOIKjbxisInrFQfHcJE4FfvXRxC6qyg1NazYY7mJ70BL\"\n",
    "ACCES_TOKEN = \"328833715-b1q3B1CDfLndtubdxcusNglLxrcWx2ygsrqxLAvI\"\n",
    "ACCES_TOKEN_SECRET = \"mdyuPkxcUW9v5JDkzKwErzdLaF7Mocgd4A6i41CJNlbMo\"\n",
    "\n",
    "# Creamos la conexion con twitter\n",
    "auth = tweepy.OAuthHandler(API_KEY, API_SECRET_KEY)\n",
    "auth.set_access_token(ACCES_TOKEN, ACCES_TOKEN_SECRET)\n",
    "api = tweepy.API(auth,wait_on_rate_limit=True,wait_on_rate_limit_notify=True)"
   ]
  },
  {
   "cell_type": "markdown",
   "metadata": {},
   "source": [
    "# Establecemos los usuarios de donde se va ha sacar la informacion"
   ]
  },
  {
   "cell_type": "code",
   "execution_count": 82,
   "metadata": {},
   "outputs": [],
   "source": [
    "\n",
    "MAX_TWWETS = 1000\n",
    "FECHA_INICIO = datetime.datetime(2021, 1, 1, 00, 00, 00)\n",
    "datos_usuarios = [{'nombre': 'Teleamazonas', 'usuario': 'teleamazonasec'},\n",
    "               {'nombre': 'Ecuavisa', 'usuario': 'ecuavisa'}]"
   ]
  },
  {
   "cell_type": "markdown",
   "metadata": {},
   "source": [
    "# Obtenemos los tweets "
   ]
  },
  {
   "cell_type": "code",
   "execution_count": 83,
   "metadata": {},
   "outputs": [],
   "source": [
    "\n",
    "DATOS_REDES_SOCIALES = []\n",
    "\n",
    "for juntaVacuna in datos_usuarios:\n",
    "    tweets = tweepy.Cursor(api.user_timeline,q=\"Fausto Molina\", id=juntaVacuna['usuario'], \n",
    "                            result_type=\"recent\", include_rts=False).items(MAX_TWWETS)\n",
    "    for tweet in tweets:\n",
    "        fecha_creacion = tweet.created_at\n",
    "        if fecha_creacion >= FECHA_INICIO:\n",
    "            registro = {**juntaVacuna}\n",
    "            registro['fecha_creacion'] = fecha_creacion\n",
    "            registro['retweets'] = tweet.retweet_count\n",
    "            registro['favoritos'] = tweet.favorite_count\n",
    "            DATOS_REDES_SOCIALES.append(registro)\n",
    "        else:\n",
    "            break"
   ]
  },
  {
   "cell_type": "markdown",
   "metadata": {},
   "source": [
    "# pasamos los datos a un dataset"
   ]
  },
  {
   "cell_type": "code",
   "execution_count": 84,
   "metadata": {},
   "outputs": [
    {
     "data": {
      "text/html": [
       "<div>\n",
       "<style scoped>\n",
       "    .dataframe tbody tr th:only-of-type {\n",
       "        vertical-align: middle;\n",
       "    }\n",
       "\n",
       "    .dataframe tbody tr th {\n",
       "        vertical-align: top;\n",
       "    }\n",
       "\n",
       "    .dataframe thead th {\n",
       "        text-align: right;\n",
       "    }\n",
       "</style>\n",
       "<table border=\"1\" class=\"dataframe\">\n",
       "  <thead>\n",
       "    <tr style=\"text-align: right;\">\n",
       "      <th></th>\n",
       "      <th>nombre</th>\n",
       "      <th>usuario</th>\n",
       "      <th>fecha_creacion</th>\n",
       "      <th>retweets</th>\n",
       "      <th>favoritos</th>\n",
       "    </tr>\n",
       "  </thead>\n",
       "  <tbody>\n",
       "    <tr>\n",
       "      <th>0</th>\n",
       "      <td>Teleamazonas</td>\n",
       "      <td>teleamazonasec</td>\n",
       "      <td>2021-06-07 02:35:00</td>\n",
       "      <td>3</td>\n",
       "      <td>23</td>\n",
       "    </tr>\n",
       "    <tr>\n",
       "      <th>1</th>\n",
       "      <td>Teleamazonas</td>\n",
       "      <td>teleamazonasec</td>\n",
       "      <td>2021-06-07 02:00:00</td>\n",
       "      <td>5</td>\n",
       "      <td>11</td>\n",
       "    </tr>\n",
       "    <tr>\n",
       "      <th>2</th>\n",
       "      <td>Teleamazonas</td>\n",
       "      <td>teleamazonasec</td>\n",
       "      <td>2021-06-07 01:30:00</td>\n",
       "      <td>0</td>\n",
       "      <td>5</td>\n",
       "    </tr>\n",
       "    <tr>\n",
       "      <th>3</th>\n",
       "      <td>Teleamazonas</td>\n",
       "      <td>teleamazonasec</td>\n",
       "      <td>2021-06-07 01:00:01</td>\n",
       "      <td>0</td>\n",
       "      <td>11</td>\n",
       "    </tr>\n",
       "    <tr>\n",
       "      <th>4</th>\n",
       "      <td>Teleamazonas</td>\n",
       "      <td>teleamazonasec</td>\n",
       "      <td>2021-06-07 00:30:00</td>\n",
       "      <td>0</td>\n",
       "      <td>6</td>\n",
       "    </tr>\n",
       "  </tbody>\n",
       "</table>\n",
       "</div>"
      ],
      "text/plain": [
       "         nombre         usuario      fecha_creacion  retweets  favoritos\n",
       "0  Teleamazonas  teleamazonasec 2021-06-07 02:35:00         3         23\n",
       "1  Teleamazonas  teleamazonasec 2021-06-07 02:00:00         5         11\n",
       "2  Teleamazonas  teleamazonasec 2021-06-07 01:30:00         0          5\n",
       "3  Teleamazonas  teleamazonasec 2021-06-07 01:00:01         0         11\n",
       "4  Teleamazonas  teleamazonasec 2021-06-07 00:30:00         0          6"
      ]
     },
     "execution_count": 84,
     "metadata": {},
     "output_type": "execute_result"
    }
   ],
   "source": [
    "\n",
    "dataset = pd.DataFrame(DATOS_REDES_SOCIALES)\n",
    "dataset.head()"
   ]
  },
  {
   "cell_type": "code",
   "execution_count": 85,
   "metadata": {},
   "outputs": [],
   "source": [
    "# Guardamos el dataset\n",
    "dataset.to_csv (r'datos_tweets_recintos.csv', index=False, header=True)"
   ]
  },
  {
   "cell_type": "markdown",
   "metadata": {},
   "source": [
    "# Realizamos la conversion de los datos"
   ]
  },
  {
   "cell_type": "code",
   "execution_count": 86,
   "metadata": {},
   "outputs": [
    {
     "data": {
      "text/html": [
       "<div>\n",
       "<style scoped>\n",
       "    .dataframe tbody tr th:only-of-type {\n",
       "        vertical-align: middle;\n",
       "    }\n",
       "\n",
       "    .dataframe tbody tr th {\n",
       "        vertical-align: top;\n",
       "    }\n",
       "\n",
       "    .dataframe thead th {\n",
       "        text-align: right;\n",
       "    }\n",
       "</style>\n",
       "<table border=\"1\" class=\"dataframe\">\n",
       "  <thead>\n",
       "    <tr style=\"text-align: right;\">\n",
       "      <th></th>\n",
       "      <th>nombre</th>\n",
       "      <th>usuario</th>\n",
       "      <th>fecha_creacion</th>\n",
       "      <th>retweets</th>\n",
       "      <th>favoritos</th>\n",
       "      <th>numero_dia</th>\n",
       "      <th>numero_reacciones</th>\n",
       "    </tr>\n",
       "  </thead>\n",
       "  <tbody>\n",
       "    <tr>\n",
       "      <th>1999</th>\n",
       "      <td>Ecuavisa</td>\n",
       "      <td>ecuavisa</td>\n",
       "      <td>2021-05-06 00:37:43</td>\n",
       "      <td>16</td>\n",
       "      <td>51</td>\n",
       "      <td>125</td>\n",
       "      <td>67</td>\n",
       "    </tr>\n",
       "    <tr>\n",
       "      <th>1998</th>\n",
       "      <td>Ecuavisa</td>\n",
       "      <td>ecuavisa</td>\n",
       "      <td>2021-05-06 00:43:57</td>\n",
       "      <td>15</td>\n",
       "      <td>34</td>\n",
       "      <td>125</td>\n",
       "      <td>49</td>\n",
       "    </tr>\n",
       "    <tr>\n",
       "      <th>1967</th>\n",
       "      <td>Ecuavisa</td>\n",
       "      <td>ecuavisa</td>\n",
       "      <td>2021-05-06 23:32:44</td>\n",
       "      <td>2</td>\n",
       "      <td>26</td>\n",
       "      <td>125</td>\n",
       "      <td>28</td>\n",
       "    </tr>\n",
       "    <tr>\n",
       "      <th>1968</th>\n",
       "      <td>Ecuavisa</td>\n",
       "      <td>ecuavisa</td>\n",
       "      <td>2021-05-06 23:30:04</td>\n",
       "      <td>9</td>\n",
       "      <td>20</td>\n",
       "      <td>125</td>\n",
       "      <td>29</td>\n",
       "    </tr>\n",
       "    <tr>\n",
       "      <th>1969</th>\n",
       "      <td>Ecuavisa</td>\n",
       "      <td>ecuavisa</td>\n",
       "      <td>2021-05-06 22:30:03</td>\n",
       "      <td>2</td>\n",
       "      <td>8</td>\n",
       "      <td>125</td>\n",
       "      <td>10</td>\n",
       "    </tr>\n",
       "  </tbody>\n",
       "</table>\n",
       "</div>"
      ],
      "text/plain": [
       "        nombre   usuario      fecha_creacion  retweets  favoritos  numero_dia  \\\n",
       "1999  Ecuavisa  ecuavisa 2021-05-06 00:37:43        16         51         125   \n",
       "1998  Ecuavisa  ecuavisa 2021-05-06 00:43:57        15         34         125   \n",
       "1967  Ecuavisa  ecuavisa 2021-05-06 23:32:44         2         26         125   \n",
       "1968  Ecuavisa  ecuavisa 2021-05-06 23:30:04         9         20         125   \n",
       "1969  Ecuavisa  ecuavisa 2021-05-06 22:30:03         2          8         125   \n",
       "\n",
       "      numero_reacciones  \n",
       "1999                 67  \n",
       "1998                 49  \n",
       "1967                 28  \n",
       "1968                 29  \n",
       "1969                 10  "
      ]
     },
     "execution_count": 86,
     "metadata": {},
     "output_type": "execute_result"
    }
   ],
   "source": [
    "\n",
    "dataset['numero_dia'] = dataset['fecha_creacion'].map(lambda x: (x - FECHA_INICIO).days)\n",
    "dataset['numero_reacciones'] = dataset['favoritos'] +  dataset['retweets']\n",
    "dataset = dataset.sort_values(by='numero_dia')\n",
    "dataset.head()"
   ]
  },
  {
   "cell_type": "markdown",
   "metadata": {},
   "source": [
    "# APLICACION DE  REGRESION LINEAL"
   ]
  },
  {
   "cell_type": "code",
   "execution_count": 87,
   "metadata": {},
   "outputs": [],
   "source": [
    "\n",
    "# importamos las librerias\n",
    "import matplotlib.pyplot as plt\n",
    "from sklearn import linear_model\n",
    "from matplotlib.ticker import NullFormatter"
   ]
  },
  {
   "cell_type": "markdown",
   "metadata": {},
   "source": [
    "# Agregamos un fila de total casos nuevos"
   ]
  },
  {
   "cell_type": "code",
   "execution_count": 96,
   "metadata": {},
   "outputs": [
    {
     "data": {
      "image/png": "[encoded data removed]",
      "text/plain": [
       "<Figure size 432x288 with 1 Axes>"
      ]
     },
     "metadata": {
      "needs_background": "light"
     },
     "output_type": "display_data"
    },
    {
     "data": {
      "image/png": "[encoded data removed]",
      "text/plain": [
       "<Figure size 432x288 with 1 Axes>"
      ]
     },
     "metadata": {
      "needs_background": "light"
     },
     "output_type": "display_data"
    }
   ],
   "source": [
    "\n",
    "def obtener_total_reacciones(valores):\n",
    "    total_reacciones = []\n",
    "    for i, valor in enumerate(valores):\n",
    "        if i > 0:\n",
    "            nuevo_valor = total_reacciones[i-1] + valor\n",
    "        else:\n",
    "            nuevo_valor = valor\n",
    "        total_reacciones.append(nuevo_valor)\n",
    "    # retornamos la nueva lista\n",
    "    return total_reacciones\n",
    "\n",
    "dimension = len(datos_usuarios) if len(datos_usuarios) % 2 == 0 else len(datos_usuarios) + 1\n",
    "\n",
    "conunt_axs = 0\n",
    "actual_axs = 0\n",
    "\n",
    "# recorre los datos de los datos_usuarios\n",
    "for i, juntaVacuna in enumerate(datos_usuarios):\n",
    "    \n",
    "    # Obtiene los datos del juntaVacuna\n",
    "    datos_juntaVacuna = dataset[dataset['usuario'].isin([juntaVacuna['usuario']])]\n",
    "    \n",
    "    # Obtiene las entradas\n",
    "    x = list(datos_juntaVacuna['numero_dia']) # Fecha\n",
    "    y = obtener_total_reacciones(datos_juntaVacuna['numero_reacciones']) # Numero de reacciones\n",
    "\n",
    "    # Creamos el objeto de Regresión Lineal\n",
    "    regresion = linear_model.LinearRegression()\n",
    "    \n",
    "    # Entrenamos nuestro modelo\n",
    "    regresion.fit(np.array(x).reshape(-1, 1), y)\n",
    "    x_real = np.array(range(110, 180))\n",
    "    noVacunado=5\n",
    "    # Dibujamos la distribucion y pedicion de los datos\n",
    "    plt.title(juntaVacuna['nombre'])\n",
    "    plt.scatter(x, y, lw=1.0, color = 'green')\n",
    "\n",
    "    plt.plot(x_real, regresion.predict(abs(x_real.reshape(-1, 1))), color = 'black')\n",
    "    plt.legend(('Ajuste lineal', 'Reacciones'))\n",
    "    plt.show()\n",
    "    # Actualiza los conts\n",
    "    if (i + 1) % 2 == 0:\n",
    "        conunt_axs += 1\n",
    "        actual_axs = 0\n",
    "    else:\n",
    "        actual_axs += 1\n",
    "        \n",
    "    \n",
    "# muestra las imagenes de la regresion\n",
    "#plt.show()"
   ]
  },
  {
   "cell_type": "markdown",
   "metadata": {},
   "source": [
    "# APLICACION DE LA SIMULACION"
   ]
  },
  {
   "cell_type": "code",
   "execution_count": 89,
   "metadata": {},
   "outputs": [],
   "source": [
    "# Importamos las librerias\n",
    "import random\n",
    "import simpy"
   ]
  },
  {
   "cell_type": "code",
   "execution_count": 90,
   "metadata": {},
   "outputs": [],
   "source": [
    "RANDOM_SEED = 42\n",
    "NUMERO_VOTANTES = 4  # Numero promedio de personas para vacunar que llegan al mismo tiempo\n",
    "NUMERO_MESAS = 2     # Numero de mesas receptoras disponibles en el recinto\n",
    "TIEMPO_VOTACION = randint(5,10)  # Tiempo promedio que las personas se demoran en vacunar\n",
    "TIEMPO_LEGADA = 7    # Tiempo promedio de la llegada de las personas\n",
    "SIM_TIME = 100     # Simulation time in minutes"
   ]
  },
  {
   "cell_type": "code",
   "execution_count": 91,
   "metadata": {},
   "outputs": [],
   "source": [
    "TIEMPOS = []"
   ]
  },
  {
   "cell_type": "code",
   "execution_count": 97,
   "metadata": {},
   "outputs": [],
   "source": [
    "class Recinto(object):\n",
    "    \"\"\"\n",
    "        Clase recinto, encargado del proceso de vacunacion \n",
    "    \"\"\"\n",
    "    def __init__(self, env, numero_mesas, tiempo_votacion):\n",
    "        self.env = env\n",
    "        self.tiempo_votacion = tiempo_votacion\n",
    "        self.mesas_electorales = simpy.Resource(env, numero_mesas)\n",
    "\n",
    "    def votacion(self, vacunado):\n",
    "        \"\"\"\n",
    "            Realiza el proceso de vacunacion.\n",
    "        \"\"\"\n",
    "        yield self.env.timeout(self.tiempo_votacion)\n",
    "        self.segunda_dosis()\n",
    "        # Espera la entrega del certificado\n",
    "        timepo_cetificado = random.expovariate(1.0 / self.tiempo_votacion)\n",
    "        yield env.timeout(timepo_cetificado)\n",
    "        print(f'{vacunado} recibe su certificado votación a las {env.now}')\n",
    "    \n",
    "    def segunda_dosis(self):\n",
    "        \n",
    "        \"\"\"\n",
    "            Realiza el proceso de la segunda dosis \n",
    "        \"\"\"\n",
    "        pass\n",
    "        \n",
    "        \n",
    "def vacunado(env, name, recinto):\n",
    "    \"\"\"\n",
    "        Metodo donde el vacunado hace uso de una mesa electoral y\n",
    "        procede con la vocunacion\n",
    "    \"\"\"\n",
    "    print(f'{name} llega a la mesa electoral y hace fila a las {env.now}')\n",
    "    with recinto.mesas_electorales.request() as mesa:\n",
    "        yield mesa\n",
    "\n",
    "        print(f'{name} entra al proceso de vacunacion a las {env.now}.')\n",
    "        \n",
    "        yield env.process(recinto.votacion(name))\n",
    "        print(f'{name} sale del recinto electoral a las {env.now}.')\n",
    "\n",
    "def agregar_vacunados(tiempo, vacunados):\n",
    "    cantidad = 0\n",
    "    if len(TIEMPOS):\n",
    "        cantidad = TIEMPOS[-1].get('cantidad')\n",
    "    # Agrega los nuevos vacunados\n",
    "    TIEMPOS.append({'tiempo': tiempo, 'cantidad': cantidad + vacunados})\n",
    "    \n",
    "def setup(env, num_mesas, time_votacion, time_llegada):\n",
    "    \"\"\"\n",
    "        Creacion del recinto electoral, y el generado aleatorio \n",
    "        de personas que van a vacunar\n",
    "    \"\"\"\n",
    "    # Crea el recinto electoral\n",
    "    recinto = Recinto(env, num_mesas, time_votacion)\n",
    "    # Create el ingreso de vacunados a las mesas\n",
    "    numero = 0\n",
    "    while True:\n",
    "        numero += 1\n",
    "        vacunados = random.randint(1, NUMERO_VOTANTES)\n",
    "        # Crea un numero randomico de vacunados\n",
    "        for i in range(vacunados):\n",
    "            env.process(vacunado(env, f'PER[{numero}.{i+1}]', recinto))\n",
    "        # Agrega el numero de botantes\n",
    "        agregar_vacunados(env.now, vacunados)\n",
    "        # Espera el tiempo de llegada\n",
    "        yield env.timeout(random.randint(time_llegada - 5, time_llegada + 5))"
   ]
  },
  {
   "cell_type": "code",
   "execution_count": 93,
   "metadata": {},
   "outputs": [
    {
     "name": "stdout",
     "output_type": "stream",
     "text": [
      "VACUNACION  - RECINTO FAUSTO MUNOZ\n",
      "PER[1.1] llega a la mesa electoral y hace fila a las 0\n",
      "PER[1.1] entra al proceso de vacunacion a las 0.\n",
      "PER[2.1] llega a la mesa electoral y hace fila a las 2\n",
      "PER[2.2] llega a la mesa electoral y hace fila a las 2\n",
      "PER[2.3] llega a la mesa electoral y hace fila a las 2\n",
      "PER[2.1] entra al proceso de vacunacion a las 2.\n",
      "PER[3.1] llega a la mesa electoral y hace fila a las 7\n",
      "PER[3.2] llega a la mesa electoral y hace fila a las 7\n",
      "PER[4.1] llega a la mesa electoral y hace fila a las 11\n",
      "PER[2.1] recibe su certificado votación a las 17.48046159396491\n",
      "PER[2.1] sale del recinto electoral a las 17.48046159396491.\n",
      "PER[2.2] entra al proceso de vacunacion a las 17.48046159396491.\n",
      "PER[5.1] llega a la mesa electoral y hace fila a las 22\n",
      "PER[1.1] recibe su certificado votación a las 23.33592672808083\n",
      "PER[1.1] sale del recinto electoral a las 23.33592672808083.\n",
      "PER[2.3] entra al proceso de vacunacion a las 23.33592672808083.\n",
      "PER[6.1] llega a la mesa electoral y hace fila a las 25\n",
      "PER[6.2] llega a la mesa electoral y hace fila a las 25\n",
      "PER[7.1] llega a la mesa electoral y hace fila a las 30\n",
      "PER[2.2] recibe su certificado votación a las 34.51961687262644\n",
      "PER[2.2] sale del recinto electoral a las 34.51961687262644.\n",
      "PER[3.1] entra al proceso de vacunacion a las 34.51961687262644.\n",
      "PER[2.3] recibe su certificado votación a las 35.55284341971763\n",
      "PER[2.3] sale del recinto electoral a las 35.55284341971763.\n",
      "PER[3.2] entra al proceso de vacunacion a las 35.55284341971763.\n",
      "PER[8.1] llega a la mesa electoral y hace fila a las 40\n",
      "PER[8.2] llega a la mesa electoral y hace fila a las 40\n",
      "PER[8.3] llega a la mesa electoral y hace fila a las 40\n",
      "PER[8.4] llega a la mesa electoral y hace fila a las 40\n",
      "PER[9.1] llega a la mesa electoral y hace fila a las 45\n",
      "PER[9.2] llega a la mesa electoral y hace fila a las 45\n",
      "PER[9.3] llega a la mesa electoral y hace fila a las 45\n",
      "PER[10.1] llega a la mesa electoral y hace fila a las 47\n",
      "PER[10.2] llega a la mesa electoral y hace fila a las 47\n",
      "PER[3.1] recibe su certificado votación a las 50.48361623424672\n",
      "PER[3.1] sale del recinto electoral a las 50.48361623424672.\n",
      "PER[4.1] entra al proceso de vacunacion a las 50.48361623424672.\n",
      "PER[11.1] llega a la mesa electoral y hace fila a las 55\n",
      "PER[11.2] llega a la mesa electoral y hace fila a las 55\n",
      "PER[11.3] llega a la mesa electoral y hace fila a las 55\n",
      "PER[3.2] recibe su certificado votación a las 59.77443700223088\n",
      "PER[3.2] sale del recinto electoral a las 59.77443700223088.\n",
      "PER[5.1] entra al proceso de vacunacion a las 59.77443700223088.\n",
      "PER[12.1] llega a la mesa electoral y hace fila a las 61\n",
      "PER[12.2] llega a la mesa electoral y hace fila a las 61\n",
      "PER[12.3] llega a la mesa electoral y hace fila a las 61\n",
      "PER[4.1] recibe su certificado votación a las 62.17347891511942\n",
      "PER[4.1] sale del recinto electoral a las 62.17347891511942.\n",
      "PER[6.1] entra al proceso de vacunacion a las 62.17347891511942.\n",
      "PER[13.1] llega a la mesa electoral y hace fila a las 64\n",
      "PER[5.1] recibe su certificado votación a las 70.7916238521872\n",
      "PER[5.1] sale del recinto electoral a las 70.7916238521872.\n",
      "PER[6.2] entra al proceso de vacunacion a las 70.7916238521872.\n",
      "PER[14.1] llega a la mesa electoral y hace fila a las 72\n",
      "PER[14.2] llega a la mesa electoral y hace fila a las 72\n",
      "PER[14.3] llega a la mesa electoral y hace fila a las 72\n",
      "PER[6.1] recibe su certificado votación a las 75.24581002332988\n",
      "PER[6.1] sale del recinto electoral a las 75.24581002332988.\n",
      "PER[7.1] entra al proceso de vacunacion a las 75.24581002332988.\n",
      "PER[6.2] recibe su certificado votación a las 81.23585065813859\n",
      "PER[6.2] sale del recinto electoral a las 81.23585065813859.\n",
      "PER[8.1] entra al proceso de vacunacion a las 81.23585065813859.\n",
      "PER[15.1] llega a la mesa electoral y hace fila a las 83\n",
      "PER[15.2] llega a la mesa electoral y hace fila a las 83\n",
      "PER[15.3] llega a la mesa electoral y hace fila a las 83\n",
      "PER[15.4] llega a la mesa electoral y hace fila a las 83\n",
      "PER[7.1] recibe su certificado votación a las 86.57913743665081\n",
      "PER[7.1] sale del recinto electoral a las 86.57913743665081.\n",
      "PER[8.2] entra al proceso de vacunacion a las 86.57913743665081.\n",
      "PER[16.1] llega a la mesa electoral y hace fila a las 93\n"
     ]
    }
   ],
   "source": [
    "print('VACUNACION  - RECINTO FAUSTO MUNOZ')\n",
    "random.seed(RANDOM_SEED)\n",
    "env = simpy.Environment()\n",
    "env.process(setup(env, NUMERO_MESAS, TIEMPO_VOTACION, TIEMPO_LEGADA))\n",
    "# Execute!\n",
    "env.run(until=SIM_TIME)"
   ]
  },
  {
   "cell_type": "code",
   "execution_count": 98,
   "metadata": {},
   "outputs": [
    {
     "data": {
      "image/png": "[encoded data removed]",
      "text/plain": [
       "<Figure size 432x288 with 1 Axes>"
      ]
     },
     "metadata": {
      "needs_background": "light"
     },
     "output_type": "display_data"
    }
   ],
   "source": [
    "tiempos = pd.DataFrame(TIEMPOS)\n",
    "plt.plot(tiempos['tiempo'], tiempos['cantidad'], linewidth=2,color='red')\n",
    "plt.scatter(tiempos['tiempo'], tiempos['cantidad'], color='blue')\n",
    "plt.grid(True)\n",
    "plt.show()"
   ]
  },
  {
   "cell_type": "code",
   "execution_count": 99,
   "metadata": {},
   "outputs": [
    {
     "name": "stdout",
     "output_type": "stream",
     "text": [
      "TOTAL VACUNADOS: 35\n",
      "TIEMPO PROMEDIO ESPERA: 41.0625\n",
      "PERSONAS NO VACUNADAS 5\n"
     ]
    }
   ],
   "source": [
    "# IMPRESION DE RESULTADOS\n",
    "print(\"TOTAL VACUNADOS:\",  TIEMPOS[-1]['cantidad'])\n",
    "print(\"TIEMPO PROMEDIO ESPERA:\",  tiempos['tiempo'].mean())\n",
    "print(\"PERSONAS NO VACUNADAS\",noVacunado)"
   ]
  },
  {
   "cell_type": "code",
   "execution_count": null,
   "metadata": {},
   "outputs": [],
   "source": []
  },
  {
   "cell_type": "code",
   "execution_count": null,
   "metadata": {},
   "outputs": [],
   "source": []
  }
 ],
 "metadata": {
  "kernelspec": {
   "display_name": "Python 3",
   "language": "python",
   "name": "python3"
  },
  "language_info": {
   "codemirror_mode": {
    "name": "ipython",
    "version": 3
   },
   "file_extension": ".py",
   "mimetype": "text/x-python",
   "name": "python",
   "nbconvert_exporter": "python",
   "pygments_lexer": "ipython3",
   "version": "3.8.5"
  }
 },
 "nbformat": 4,
 "nbformat_minor": 4
}
