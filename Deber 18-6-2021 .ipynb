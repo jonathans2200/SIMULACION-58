{
 "cells": [
  {
   "cell_type": "markdown",
   "metadata": {},
   "source": [
    "# IMPORTACION  DE LIBRERIAS"
   ]
  },
  {
   "cell_type": "code",
   "execution_count": 12,
   "metadata": {},
   "outputs": [],
   "source": [
    "import collections\n",
    "import random\n",
    "import simpy\n",
    "from tkinter import *\n",
    "from tkinter import ttk\n",
    "from tkinter import messagebox"
   ]
  },
  {
   "cell_type": "markdown",
   "metadata": {},
   "source": [
    "# DEFINICION DE LOS METODOS "
   ]
  },
  {
   "cell_type": "code",
   "execution_count": 13,
   "metadata": {},
   "outputs": [],
   "source": [
    "def ventaBoletos(env, num_boletos, pelicula, teatro):\n",
    "  with teatro.contador.request() as turno:\n",
    "    resultado = yield turno | teatro.sold_out[pelicula]\n",
    "    if turno not in resultado:\n",
    "      teatro.num_renegados[pelicula] += 1\n",
    "      return\n",
    "    if teatro.num_boletos[pelicula] < num_boletos:\n",
    "      yield env.timeout(0.5) \n",
    "      return\n",
    "    teatro.num_boletos[pelicula] -= num_boletos\n",
    "    if teatro.num_boletos[pelicula] < 2:\n",
    "      teatro.sold_out[pelicula].succeed()\n",
    "      teatro.tiempo_agotado[pelicula] = env.now\n",
    "      teatro.num_boletos[pelicula] = 0\n",
    "    yield env.timeout(1)\n",
    "\n",
    "\n",
    "def llegadaClientes(env, teatro):\n",
    "  while True:\n",
    "    yield env.timeout(random.expovariate(1/0.5))\n",
    "    pelicula = random.choices(teatro.peliculas, teatro.probabilidad, k=1)\n",
    "    num_boletos = random.randint(1, 6)\n",
    "    if teatro.num_boletos[pelicula[0]]:\n",
    "      env.process(ventaBoletos(env, num_boletos, pelicula[0], teatro))\n",
    "\n",
    "\n",
    "def process_run(vel,nboleto,tsimulacion):\n",
    "    \n",
    "    VELOCIDAD_LLEGADA = vel\n",
    "    NUM_BOLETO = nboleto\n",
    "    TIEMPO_SIMULACION = tsimulacion\n",
    "    \n",
    "    resultado = \"\"\n",
    "    \n",
    "    Teatro = collections.namedtuple('Teatro', 'contador, peliculas, probabilidad, num_boletos, sold_out, tiempo_agotado, num_renegados')\n",
    "\n",
    "    print('MALL DEL RIO')\n",
    "    \n",
    "    resultado = \"MALL DEL RIO\"\n",
    "    env = simpy.Environment()\n",
    "\n",
    "    contador = simpy.Resource(env,capacity=1)\n",
    "    peliculas = ['El amanecer de los muertos', 'Spiderman', 'Chuky']\n",
    "    \n",
    "    resultado = resultado +\"\\n\"\n",
    "    \n",
    "    probabilidad=[0.1, 0.3, 0.6]\n",
    "    num_boletos = {pelicula: NUM_BOLETO for pelicula in peliculas}\n",
    "    sold_out = {pelicula: env.event() for pelicula in peliculas}\n",
    "    tiempo_agotado = {pelicula: None for pelicula in peliculas}\n",
    "    num_renegados = {pelicula: 0 for pelicula in peliculas}\n",
    "\n",
    "    teatro = Teatro(contador, peliculas, probabilidad, num_boletos, sold_out, tiempo_agotado, num_renegados)\n",
    "    env.process(llegadaClientes(env, teatro))\n",
    "    env.run(until=TIEMPO_SIMULACION)\n",
    "\n",
    "    # Analisis y resultados\n",
    "    for pelicula in peliculas:\n",
    "        if teatro.sold_out[pelicula]:\n",
    "            print('Pelicula: %s se agoto en  %.1f' %(pelicula, teatro.tiempo_agotado[pelicula]))\n",
    "            sms1 = 'Pelicula: %s se agoto %.1f' %(pelicula, teatro.tiempo_agotado[pelicula])\n",
    "            \n",
    "            print(' personas  renegadas %s' %teatro.num_renegados[pelicula])\n",
    "            sms2 = 'personas renegadas %s' %teatro.num_renegados[pelicula]\n",
    "            \n",
    "            resultado = resultado + \"\\n\" + sms1 +\"\\n\"+ sms2\n",
    "    return resultado"
   ]
  },
  {
   "cell_type": "markdown",
   "metadata": {},
   "source": [
    "# EJECUCION DE PROCESO SIN VENTANA"
   ]
  },
  {
   "cell_type": "code",
   "execution_count": 14,
   "metadata": {},
   "outputs": [
    {
     "name": "stdout",
     "output_type": "stream",
     "text": [
      "MALL DEL RIO\n",
      "Pelicula: El amanecer de los muertos se agoto en  61.5\n",
      " personas  renegadas 0\n",
      "Pelicula: Spiderman se agoto en  38.2\n",
      " personas  renegadas 4\n",
      "Pelicula: Chuky se agoto en  21.2\n",
      " personas  renegadas 14\n",
      "MALL DEL RIO\n",
      "\n",
      "Pelicula: El amanecer de los muertos se agoto 61.5\n",
      "personas renegadas 0\n",
      "Pelicula: Spiderman se agoto 38.2\n",
      "personas renegadas 4\n",
      "Pelicula: Chuky se agoto 21.2\n",
      "personas renegadas 14\n"
     ]
    }
   ],
   "source": [
    "resp = process_run(vel=80,nboleto=50,tsimulacion=300)\n",
    "print(resp)"
   ]
  },
  {
   "cell_type": "code",
   "execution_count": 15,
   "metadata": {},
   "outputs": [],
   "source": [
    "ventana = Tk()\n",
    "ventana.geometry(\"300x200\")\n",
    "ventana.title(\"MALL DEL RIO\")\n",
    "ventana.resizable(0,0)\n",
    "\n",
    "txvelocidad=StringVar()\n",
    "velocidad = Label(ventana,text=\"Velocidad\", width=10).place(x=15, y=10)\n",
    "txtvelocidad = ttk.Entry(ventana, textvariable=txvelocidad).place(x=150,y=10)\n",
    "\n",
    "txnboleto=StringVar()\n",
    "nboleto = Label(ventana,text=\"# boletos\", width=20).place(x=5, y=40)\n",
    "txtnboleto = ttk.Entry(ventana, textvariable=txnboleto).place(x=150,y=40)\n",
    "\n",
    "txsimulacion=StringVar()\n",
    "simulacion = Label(ventana,text=\"Tiempo\", width=20).place(x=10, y=70)\n",
    "txtsimulacion = ttk.Entry(ventana,textvariable=txsimulacion).place(x=150,y=70)\n",
    "\n",
    "\n",
    "def guardar():\n",
    "    vel = txvelocidad.get()\n",
    "    nbol=txnboleto.get()\n",
    "    sim=txsimulacion.get()\n",
    "    \n",
    "    res = process_run(vel=int(vel),nboleto=int(nbol),tsimulacion=int(sim))\n",
    "    print(\"resp \",res)\n",
    "    #tk.messagebox.showinfo(title=\"Resultado de simulacion\", message=res, **options)\n",
    "    messagebox.showinfo(message=res,title=\"Resultado de simulación\")\n",
    "    \n",
    "\n",
    "Button(ventana, text=\"Correr\", command=guardar).place(x=100, y=150)\n",
    "\n",
    "ventana.mainloop()"
   ]
  },
  {
   "cell_type": "code",
   "execution_count": null,
   "metadata": {},
   "outputs": [],
   "source": []
  },
  {
   "cell_type": "code",
   "execution_count": null,
   "metadata": {},
   "outputs": [],
   "source": []
  },
  {
   "cell_type": "code",
   "execution_count": null,
   "metadata": {},
   "outputs": [],
   "source": []
  }
 ],
 "metadata": {
  "kernelspec": {
   "display_name": "Python 3",
   "language": "python",
   "name": "python3"
  },
  "language_info": {
   "codemirror_mode": {
    "name": "ipython",
    "version": 3
   },
   "file_extension": ".py",
   "mimetype": "text/x-python",
   "name": "python",
   "nbconvert_exporter": "python",
   "pygments_lexer": "ipython3",
   "version": "3.8.5"
  }
 },
 "nbformat": 4,
 "nbformat_minor": 4
}
