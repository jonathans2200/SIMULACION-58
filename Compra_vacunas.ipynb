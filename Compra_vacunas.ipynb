{
 "cells": [
  {
   "cell_type": "markdown",
   "metadata": {},
   "source": [
    "# importacion de librerias"
   ]
  },
  {
   "cell_type": "code",
   "execution_count": 1,
   "metadata": {},
   "outputs": [],
   "source": [
    "import simpy"
   ]
  },
  {
   "cell_type": "markdown",
   "metadata": {},
   "source": [
    "# definicion de metodos"
   ]
  },
  {
   "cell_type": "code",
   "execution_count": 2,
   "metadata": {},
   "outputs": [
    {
     "name": "stdout",
     "output_type": "stream",
     "text": [
      "1 vacuna en el tiempo 1\n",
      "1 vacuna en el tiempo 2\n",
      " Llega la vacuna 0  en el tiempo: 2\n",
      "1 vacuna en el tiempo 3\n",
      "1 vacuna en el tiempo 4\n",
      "1 vacuna en el tiempo 5\n",
      "1 vacuna en el tiempo 6\n",
      "1 vacuna en el tiempo 7\n",
      "1 vacuna en el tiempo 8\n",
      "1 vacuna en el tiempo 9\n"
     ]
    }
   ],
   "source": [
    "def llegada_vacuna(env, stock):\n",
    "    for i in range(1000):\n",
    "        yield env.timeout(2)\n",
    "        yield stock.put(f'vacuna{i}')\n",
    "        print(f' Llega la vacuna {i}  en el tiempo: {env.now}')\n",
    "        \n",
    "        \n",
    "def paciente(nombre,env,stock):\n",
    "    while True:\n",
    "        yield env.timeout(1)\n",
    "        print(f'{nombre} vacuna en el tiempo {env.now}')\n",
    "env = simpy.Environment()\n",
    "stock = simpy.Store(env, capacity=1)\n",
    "llegada = env.process(llegada_vacuna(env, stock))\n",
    "paciente = env.process(paciente(\"1\",env, stock))\n",
    "env.run(until=10)\n",
    "\n",
    "\n",
    "def vacuna_terminada(env, espera):\n",
    "    for wait in [simpy.PriorityItem('P2','0'),simpy.PriorityItem('P0','1'),simpy.PriorityItem('P3','2'),simpy.PriorityItem('P1','3')]:\n",
    "        yield env.timeout(1)\n",
    "        print(f' Tiempo: {env.now} se terminan las vacunas {wait}')\n",
    "        yield espera.put(wait)\n",
    "        \n",
    "def reasigna_vacuna(env,espera):\n",
    "    while True:\n",
    "        wait = yield espera.get()\n",
    "        yield env.timeout(3)\n",
    "        print(f'Se reasigna al paciente: {wait} en el tiempo {env.now}')\n",
    "\n"
   ]
  },
  {
   "cell_type": "markdown",
   "metadata": {},
   "source": [
    "# ejecucion"
   ]
  },
  {
   "cell_type": "code",
   "execution_count": 3,
   "metadata": {},
   "outputs": [
    {
     "name": "stdout",
     "output_type": "stream",
     "text": [
      " Tiempo: 1 se terminan las vacunas PriorityItem(priority='P2', item='0')\n",
      " Tiempo: 2 se terminan las vacunas PriorityItem(priority='P0', item='1')\n",
      " Tiempo: 3 se terminan las vacunas PriorityItem(priority='P3', item='2')\n",
      "Se reasigna al paciente: PriorityItem(priority='P2', item='0') en el tiempo 4\n",
      " Tiempo: 4 se terminan las vacunas PriorityItem(priority='P1', item='3')\n",
      "Se reasigna al paciente: PriorityItem(priority='P0', item='1') en el tiempo 7\n",
      "Se reasigna al paciente: PriorityItem(priority='P1', item='3') en el tiempo 10\n",
      "Se reasigna al paciente: PriorityItem(priority='P3', item='2') en el tiempo 13\n"
     ]
    }
   ],
   "source": [
    "env = simpy.Environment()\n",
    "espera = simpy.PriorityStore(env)\n",
    "env.process(vacuna_terminada(env,espera))\n",
    "env.process(reasigna_vacuna(env, espera))\n",
    "env.run(until=30)"
   ]
  },
  {
   "cell_type": "code",
   "execution_count": null,
   "metadata": {},
   "outputs": [],
   "source": []
  }
 ],
 "metadata": {
  "kernelspec": {
   "display_name": "Python 3",
   "language": "python",
   "name": "python3"
  },
  "language_info": {
   "codemirror_mode": {
    "name": "ipython",
    "version": 3
   },
   "file_extension": ".py",
   "mimetype": "text/x-python",
   "name": "python",
   "nbconvert_exporter": "python",
   "pygments_lexer": "ipython3",
   "version": "3.8.5"
  }
 },
 "nbformat": 4,
 "nbformat_minor": 4
}
